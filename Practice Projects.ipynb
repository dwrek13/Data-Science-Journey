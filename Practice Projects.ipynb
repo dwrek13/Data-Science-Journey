{
 "cells": [
  {
   "cell_type": "markdown",
   "metadata": {},
   "source": [
    "Practice Projects"
   ]
  },
  {
   "cell_type": "code",
   "execution_count": 3,
   "metadata": {},
   "outputs": [],
   "source": [
    "# based upon my deductions/elections\n",
    "# 'x' = hours worked, 'y' = hourly payrate\n",
    "\n",
    "def payCalc(x,y):\n",
    "    if x <= 80:\n",
    "        z = x * y\n",
    "        print(round(z * .75, 2))\n",
    "    elif x > 80:\n",
    "        x -= 80\n",
    "        x *= 1.5\n",
    "        z = (80 * y) + (x * y)\n",
    "        print(round(z * .75, 2))"
   ]
  },
  {
   "cell_type": "code",
   "execution_count": 4,
   "metadata": {},
   "outputs": [
    {
     "name": "stdout",
     "output_type": "stream",
     "text": [
      "1872.45\n"
     ]
    }
   ],
   "source": [
    "# testing payCalc()\n",
    "\n",
    "payCalc(90,26.28)"
   ]
  }
 ],
 "metadata": {
  "kernelspec": {
   "display_name": "Python 2",
   "language": "python",
   "name": "python2"
  },
  "language_info": {
   "codemirror_mode": {
    "name": "ipython",
    "version": 2
   },
   "file_extension": ".py",
   "mimetype": "text/x-python",
   "name": "python",
   "nbconvert_exporter": "python",
   "pygments_lexer": "ipython2",
   "version": "2.7.16"
  }
 },
 "nbformat": 4,
 "nbformat_minor": 2
}
